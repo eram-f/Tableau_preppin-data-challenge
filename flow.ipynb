{
 "cells": [
  {
   "cell_type": "markdown",
   "metadata": {},
   "source": [
    "#### Preppin' Data 2024 Week 01 - Prep Air's Flow Card"
   ]
  },
  {
   "cell_type": "code",
   "execution_count": 29,
   "metadata": {},
   "outputs": [],
   "source": [
    "import pandas as pd"
   ]
  },
  {
   "cell_type": "code",
   "execution_count": 30,
   "metadata": {},
   "outputs": [],
   "source": [
    "flow_data=pd.read_csv(\"PD 2024 Wk 1 Input.csv\")"
   ]
  },
  {
   "cell_type": "code",
   "execution_count": 31,
   "metadata": {},
   "outputs": [
    {
     "data": {
      "text/html": [
       "<div>\n",
       "<style scoped>\n",
       "    .dataframe tbody tr th:only-of-type {\n",
       "        vertical-align: middle;\n",
       "    }\n",
       "\n",
       "    .dataframe tbody tr th {\n",
       "        vertical-align: top;\n",
       "    }\n",
       "\n",
       "    .dataframe thead th {\n",
       "        text-align: right;\n",
       "    }\n",
       "</style>\n",
       "<table border=\"1\" class=\"dataframe\">\n",
       "  <thead>\n",
       "    <tr style=\"text-align: right;\">\n",
       "      <th></th>\n",
       "      <th>Flight Details</th>\n",
       "      <th>Flow Card?</th>\n",
       "      <th>Bags Checked</th>\n",
       "      <th>Meal Type</th>\n",
       "    </tr>\n",
       "  </thead>\n",
       "  <tbody>\n",
       "    <tr>\n",
       "      <th>0</th>\n",
       "      <td>2024-07-22//PA010//Tokyo-New York//Economy//2380</td>\n",
       "      <td>1</td>\n",
       "      <td>0</td>\n",
       "      <td>Egg Free</td>\n",
       "    </tr>\n",
       "    <tr>\n",
       "      <th>1</th>\n",
       "      <td>2024-09-28//PA008//Perth-New York//Economy//1855</td>\n",
       "      <td>0</td>\n",
       "      <td>2</td>\n",
       "      <td>Vegetarian</td>\n",
       "    </tr>\n",
       "    <tr>\n",
       "      <th>2</th>\n",
       "      <td>2024-04-20//PA002//New York-London//Economy//3490</td>\n",
       "      <td>1</td>\n",
       "      <td>1</td>\n",
       "      <td>Vegan</td>\n",
       "    </tr>\n",
       "    <tr>\n",
       "      <th>3</th>\n",
       "      <td>2024-01-23//PA010//Tokyo-New York//Premium Eco...</td>\n",
       "      <td>1</td>\n",
       "      <td>1</td>\n",
       "      <td>Vegetarian</td>\n",
       "    </tr>\n",
       "    <tr>\n",
       "      <th>4</th>\n",
       "      <td>2024-10-01//PA008//Perth-New York//Business Cl...</td>\n",
       "      <td>0</td>\n",
       "      <td>0</td>\n",
       "      <td>Vegetarian</td>\n",
       "    </tr>\n",
       "  </tbody>\n",
       "</table>\n",
       "</div>"
      ],
      "text/plain": [
       "                                      Flight Details  Flow Card?  \\\n",
       "0   2024-07-22//PA010//Tokyo-New York//Economy//2380           1   \n",
       "1   2024-09-28//PA008//Perth-New York//Economy//1855           0   \n",
       "2  2024-04-20//PA002//New York-London//Economy//3490           1   \n",
       "3  2024-01-23//PA010//Tokyo-New York//Premium Eco...           1   \n",
       "4  2024-10-01//PA008//Perth-New York//Business Cl...           0   \n",
       "\n",
       "   Bags Checked   Meal Type  \n",
       "0             0    Egg Free  \n",
       "1             2  Vegetarian  \n",
       "2             1       Vegan  \n",
       "3             1  Vegetarian  \n",
       "4             0  Vegetarian  "
      ]
     },
     "execution_count": 31,
     "metadata": {},
     "output_type": "execute_result"
    }
   ],
   "source": [
    "flow_data.head(5)"
   ]
  },
  {
   "cell_type": "code",
   "execution_count": 32,
   "metadata": {},
   "outputs": [
    {
     "name": "stdout",
     "output_type": "stream",
     "text": [
      "[1 0]\n"
     ]
    }
   ],
   "source": [
    "# Finding all unique values of \"Flow Card?\" column.\n",
    "print(flow_data[\"Flow Card?\"].unique())"
   ]
  },
  {
   "cell_type": "markdown",
   "metadata": {},
   "source": [
    "#### In pandas, you can split a string column into multiple columns using delimiters or regular expression patterns by the string methods str.split() and str.extract().\n",
    "\n",
    "To get the split result as a pandas.DataFrame with multiple columns, set the expand argument to True"
   ]
  },
  {
   "cell_type": "code",
   "execution_count": 33,
   "metadata": {},
   "outputs": [],
   "source": [
    "# flow_data[['Date', 'Flight Number', 'from-to', 'class', 'price']] = flow_data['Flight Details'].str.extract(r'(.*)//(.*)//(.*)-(.*)//(.*)//(.*)')\n",
    "\n",
    "flow_data[['Date', 'Flight Number', 'from-to', 'class', 'price']] = flow_data['Flight Details'].str.split('//', expand=True)\n",
    "\n",
    "# flow_data.head(6)\n"
   ]
  },
  {
   "cell_type": "code",
   "execution_count": 34,
   "metadata": {},
   "outputs": [
    {
     "data": {
      "text/html": [
       "<div>\n",
       "<style scoped>\n",
       "    .dataframe tbody tr th:only-of-type {\n",
       "        vertical-align: middle;\n",
       "    }\n",
       "\n",
       "    .dataframe tbody tr th {\n",
       "        vertical-align: top;\n",
       "    }\n",
       "\n",
       "    .dataframe thead th {\n",
       "        text-align: right;\n",
       "    }\n",
       "</style>\n",
       "<table border=\"1\" class=\"dataframe\">\n",
       "  <thead>\n",
       "    <tr style=\"text-align: right;\">\n",
       "      <th></th>\n",
       "      <th>Flight Details</th>\n",
       "      <th>Flow Card?</th>\n",
       "      <th>Bags Checked</th>\n",
       "      <th>Meal Type</th>\n",
       "      <th>Date</th>\n",
       "      <th>Flight Number</th>\n",
       "      <th>from-to</th>\n",
       "      <th>class</th>\n",
       "      <th>price</th>\n",
       "      <th>from</th>\n",
       "      <th>to</th>\n",
       "    </tr>\n",
       "  </thead>\n",
       "  <tbody>\n",
       "    <tr>\n",
       "      <th>0</th>\n",
       "      <td>2024-07-22//PA010//Tokyo-New York//Economy//2380</td>\n",
       "      <td>1</td>\n",
       "      <td>0</td>\n",
       "      <td>Egg Free</td>\n",
       "      <td>2024-07-22</td>\n",
       "      <td>PA010</td>\n",
       "      <td>Tokyo-New York</td>\n",
       "      <td>Economy</td>\n",
       "      <td>2380</td>\n",
       "      <td>Tokyo</td>\n",
       "      <td>New York</td>\n",
       "    </tr>\n",
       "    <tr>\n",
       "      <th>1</th>\n",
       "      <td>2024-09-28//PA008//Perth-New York//Economy//1855</td>\n",
       "      <td>0</td>\n",
       "      <td>2</td>\n",
       "      <td>Vegetarian</td>\n",
       "      <td>2024-09-28</td>\n",
       "      <td>PA008</td>\n",
       "      <td>Perth-New York</td>\n",
       "      <td>Economy</td>\n",
       "      <td>1855</td>\n",
       "      <td>Perth</td>\n",
       "      <td>New York</td>\n",
       "    </tr>\n",
       "    <tr>\n",
       "      <th>2</th>\n",
       "      <td>2024-04-20//PA002//New York-London//Economy//3490</td>\n",
       "      <td>1</td>\n",
       "      <td>1</td>\n",
       "      <td>Vegan</td>\n",
       "      <td>2024-04-20</td>\n",
       "      <td>PA002</td>\n",
       "      <td>New York-London</td>\n",
       "      <td>Economy</td>\n",
       "      <td>3490</td>\n",
       "      <td>New York</td>\n",
       "      <td>London</td>\n",
       "    </tr>\n",
       "    <tr>\n",
       "      <th>3</th>\n",
       "      <td>2024-01-23//PA010//Tokyo-New York//Premium Eco...</td>\n",
       "      <td>1</td>\n",
       "      <td>1</td>\n",
       "      <td>Vegetarian</td>\n",
       "      <td>2024-01-23</td>\n",
       "      <td>PA010</td>\n",
       "      <td>Tokyo-New York</td>\n",
       "      <td>Premium Economy</td>\n",
       "      <td>825</td>\n",
       "      <td>Tokyo</td>\n",
       "      <td>New York</td>\n",
       "    </tr>\n",
       "    <tr>\n",
       "      <th>4</th>\n",
       "      <td>2024-10-01//PA008//Perth-New York//Business Cl...</td>\n",
       "      <td>0</td>\n",
       "      <td>0</td>\n",
       "      <td>Vegetarian</td>\n",
       "      <td>2024-10-01</td>\n",
       "      <td>PA008</td>\n",
       "      <td>Perth-New York</td>\n",
       "      <td>Business Class</td>\n",
       "      <td>634.79999999999995</td>\n",
       "      <td>Perth</td>\n",
       "      <td>New York</td>\n",
       "    </tr>\n",
       "    <tr>\n",
       "      <th>5</th>\n",
       "      <td>2024-03-04//PA007//New York-Perth//Business Cl...</td>\n",
       "      <td>0</td>\n",
       "      <td>3</td>\n",
       "      <td>Nut Free</td>\n",
       "      <td>2024-03-04</td>\n",
       "      <td>PA007</td>\n",
       "      <td>New York-Perth</td>\n",
       "      <td>Business Class</td>\n",
       "      <td>458.39999999999998</td>\n",
       "      <td>New York</td>\n",
       "      <td>Perth</td>\n",
       "    </tr>\n",
       "  </tbody>\n",
       "</table>\n",
       "</div>"
      ],
      "text/plain": [
       "                                      Flight Details  Flow Card?  \\\n",
       "0   2024-07-22//PA010//Tokyo-New York//Economy//2380           1   \n",
       "1   2024-09-28//PA008//Perth-New York//Economy//1855           0   \n",
       "2  2024-04-20//PA002//New York-London//Economy//3490           1   \n",
       "3  2024-01-23//PA010//Tokyo-New York//Premium Eco...           1   \n",
       "4  2024-10-01//PA008//Perth-New York//Business Cl...           0   \n",
       "5  2024-03-04//PA007//New York-Perth//Business Cl...           0   \n",
       "\n",
       "   Bags Checked   Meal Type        Date Flight Number          from-to  \\\n",
       "0             0    Egg Free  2024-07-22         PA010   Tokyo-New York   \n",
       "1             2  Vegetarian  2024-09-28         PA008   Perth-New York   \n",
       "2             1       Vegan  2024-04-20         PA002  New York-London   \n",
       "3             1  Vegetarian  2024-01-23         PA010   Tokyo-New York   \n",
       "4             0  Vegetarian  2024-10-01         PA008   Perth-New York   \n",
       "5             3    Nut Free  2024-03-04         PA007   New York-Perth   \n",
       "\n",
       "             class               price      from        to  \n",
       "0          Economy                2380     Tokyo  New York  \n",
       "1          Economy                1855     Perth  New York  \n",
       "2          Economy                3490  New York    London  \n",
       "3  Premium Economy                 825     Tokyo  New York  \n",
       "4   Business Class  634.79999999999995     Perth  New York  \n",
       "5   Business Class  458.39999999999998  New York     Perth  "
      ]
     },
     "execution_count": 34,
     "metadata": {},
     "output_type": "execute_result"
    }
   ],
   "source": [
    "flow_data[['from', 'to']] = flow_data['from-to'].str.split('-', expand=True)\n",
    "flow_data.head(6)"
   ]
  },
  {
   "cell_type": "markdown",
   "metadata": {},
   "source": [
    "#### To delete the column without having to reassign df you can use inplace=true, if we dont use inplace=true, changes will not be reflected without reassigning the dataframe."
   ]
  },
  {
   "cell_type": "code",
   "execution_count": 35,
   "metadata": {},
   "outputs": [],
   "source": [
    "flow_data.drop(columns='Flight Details',inplace=True)"
   ]
  },
  {
   "cell_type": "code",
   "execution_count": 36,
   "metadata": {},
   "outputs": [],
   "source": [
    "flow_data['Date']=pd.to_datetime(flow_data['Date'])"
   ]
  },
  {
   "cell_type": "code",
   "execution_count": 37,
   "metadata": {},
   "outputs": [
    {
     "name": "stdout",
     "output_type": "stream",
     "text": [
      "<class 'pandas.core.frame.DataFrame'>\n",
      "RangeIndex: 3778 entries, 0 to 3777\n",
      "Data columns (total 10 columns):\n",
      " #   Column         Non-Null Count  Dtype         \n",
      "---  ------         --------------  -----         \n",
      " 0   Flow Card?     3778 non-null   int64         \n",
      " 1   Bags Checked   3778 non-null   int64         \n",
      " 2   Meal Type      3189 non-null   object        \n",
      " 3   Date           3778 non-null   datetime64[ns]\n",
      " 4   Flight Number  3778 non-null   object        \n",
      " 5   from-to        3778 non-null   object        \n",
      " 6   class          3778 non-null   object        \n",
      " 7   price          3778 non-null   float64       \n",
      " 8   from           3778 non-null   object        \n",
      " 9   to             3778 non-null   object        \n",
      "dtypes: datetime64[ns](1), float64(1), int64(2), object(6)\n",
      "memory usage: 295.3+ KB\n"
     ]
    }
   ],
   "source": [
    "flow_data['price']= flow_data['price'].astype(float)\n",
    "flow_data.info()"
   ]
  },
  {
   "cell_type": "code",
   "execution_count": 38,
   "metadata": {},
   "outputs": [
    {
     "data": {
      "text/html": [
       "<div>\n",
       "<style scoped>\n",
       "    .dataframe tbody tr th:only-of-type {\n",
       "        vertical-align: middle;\n",
       "    }\n",
       "\n",
       "    .dataframe tbody tr th {\n",
       "        vertical-align: top;\n",
       "    }\n",
       "\n",
       "    .dataframe thead th {\n",
       "        text-align: right;\n",
       "    }\n",
       "</style>\n",
       "<table border=\"1\" class=\"dataframe\">\n",
       "  <thead>\n",
       "    <tr style=\"text-align: right;\">\n",
       "      <th></th>\n",
       "      <th>Flow Card?</th>\n",
       "      <th>Bags Checked</th>\n",
       "      <th>Meal Type</th>\n",
       "      <th>Date</th>\n",
       "      <th>Flight Number</th>\n",
       "      <th>from-to</th>\n",
       "      <th>class</th>\n",
       "      <th>price</th>\n",
       "      <th>from</th>\n",
       "      <th>to</th>\n",
       "    </tr>\n",
       "  </thead>\n",
       "  <tbody>\n",
       "    <tr>\n",
       "      <th>0</th>\n",
       "      <td>yes</td>\n",
       "      <td>0</td>\n",
       "      <td>Egg Free</td>\n",
       "      <td>2024-07-22</td>\n",
       "      <td>PA010</td>\n",
       "      <td>Tokyo-New York</td>\n",
       "      <td>Economy</td>\n",
       "      <td>2380.0</td>\n",
       "      <td>Tokyo</td>\n",
       "      <td>New York</td>\n",
       "    </tr>\n",
       "    <tr>\n",
       "      <th>1</th>\n",
       "      <td>no</td>\n",
       "      <td>2</td>\n",
       "      <td>Vegetarian</td>\n",
       "      <td>2024-09-28</td>\n",
       "      <td>PA008</td>\n",
       "      <td>Perth-New York</td>\n",
       "      <td>Economy</td>\n",
       "      <td>1855.0</td>\n",
       "      <td>Perth</td>\n",
       "      <td>New York</td>\n",
       "    </tr>\n",
       "    <tr>\n",
       "      <th>2</th>\n",
       "      <td>yes</td>\n",
       "      <td>1</td>\n",
       "      <td>Vegan</td>\n",
       "      <td>2024-04-20</td>\n",
       "      <td>PA002</td>\n",
       "      <td>New York-London</td>\n",
       "      <td>Economy</td>\n",
       "      <td>3490.0</td>\n",
       "      <td>New York</td>\n",
       "      <td>London</td>\n",
       "    </tr>\n",
       "    <tr>\n",
       "      <th>3</th>\n",
       "      <td>yes</td>\n",
       "      <td>1</td>\n",
       "      <td>Vegetarian</td>\n",
       "      <td>2024-01-23</td>\n",
       "      <td>PA010</td>\n",
       "      <td>Tokyo-New York</td>\n",
       "      <td>Premium Economy</td>\n",
       "      <td>825.0</td>\n",
       "      <td>Tokyo</td>\n",
       "      <td>New York</td>\n",
       "    </tr>\n",
       "    <tr>\n",
       "      <th>4</th>\n",
       "      <td>no</td>\n",
       "      <td>0</td>\n",
       "      <td>Vegetarian</td>\n",
       "      <td>2024-10-01</td>\n",
       "      <td>PA008</td>\n",
       "      <td>Perth-New York</td>\n",
       "      <td>Business Class</td>\n",
       "      <td>634.8</td>\n",
       "      <td>Perth</td>\n",
       "      <td>New York</td>\n",
       "    </tr>\n",
       "  </tbody>\n",
       "</table>\n",
       "</div>"
      ],
      "text/plain": [
       "  Flow Card?  Bags Checked   Meal Type       Date Flight Number  \\\n",
       "0        yes             0    Egg Free 2024-07-22         PA010   \n",
       "1         no             2  Vegetarian 2024-09-28         PA008   \n",
       "2        yes             1       Vegan 2024-04-20         PA002   \n",
       "3        yes             1  Vegetarian 2024-01-23         PA010   \n",
       "4         no             0  Vegetarian 2024-10-01         PA008   \n",
       "\n",
       "           from-to            class   price      from        to  \n",
       "0   Tokyo-New York          Economy  2380.0     Tokyo  New York  \n",
       "1   Perth-New York          Economy  1855.0     Perth  New York  \n",
       "2  New York-London          Economy  3490.0  New York    London  \n",
       "3   Tokyo-New York  Premium Economy   825.0     Tokyo  New York  \n",
       "4   Perth-New York   Business Class   634.8     Perth  New York  "
      ]
     },
     "execution_count": 38,
     "metadata": {},
     "output_type": "execute_result"
    }
   ],
   "source": [
    "flow_data['Flow Card?']=flow_data['Flow Card?'].map({1: 'yes', 0: 'no'})\n",
    "flow_data.head()"
   ]
  },
  {
   "cell_type": "code",
   "execution_count": null,
   "metadata": {},
   "outputs": [],
   "source": [
    "flow_data = flow_data[['SKU', 'SKU', 'Title', 'Cost']]"
   ]
  }
 ],
 "metadata": {
  "kernelspec": {
   "display_name": "Python 3",
   "language": "python",
   "name": "python3"
  },
  "language_info": {
   "codemirror_mode": {
    "name": "ipython",
    "version": 3
   },
   "file_extension": ".py",
   "mimetype": "text/x-python",
   "name": "python",
   "nbconvert_exporter": "python",
   "pygments_lexer": "ipython3",
   "version": "3.12.0"
  }
 },
 "nbformat": 4,
 "nbformat_minor": 2
}
